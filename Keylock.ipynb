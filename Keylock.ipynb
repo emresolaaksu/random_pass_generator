{
  "nbformat": 4,
  "nbformat_minor": 0,
  "metadata": {
    "colab": {
      "name": "Keylock.ipynb",
      "provenance": [],
      "collapsed_sections": [],
      "include_colab_link": true
    },
    "kernelspec": {
      "name": "python3",
      "display_name": "Python 3"
    },
    "language_info": {
      "name": "python"
    }
  },
  "cells": [
    {
      "cell_type": "markdown",
      "metadata": {
        "id": "view-in-github",
        "colab_type": "text"
      },
      "source": [
        "<a href=\"https://colab.research.google.com/github/emresolaaksu/random_pass_generator/blob/main/Keylock.ipynb\" target=\"_parent\"><img src=\"https://colab.research.google.com/assets/colab-badge.svg\" alt=\"Open In Colab\"/></a>"
      ]
    },
    {
      "cell_type": "code",
      "metadata": {
        "id": "tEKCdRokb3Ti",
        "colab": {
          "base_uri": "https://localhost:8080/"
        },
        "outputId": "d4fa8eba-fb5b-441d-97d9-4da55effaaa7"
      },
      "source": [
        "import random\n",
        "\n",
        "length_of_pass = int(input(\"Enter lenght of the password!  \"))\n",
        "\n",
        "if length_of_pass > (126 - 33) + 1:\n",
        "    print(\"Are You An İdiot\")\n",
        "    exit()\n",
        "\n",
        "pass_list = []\n",
        "\n",
        "while len(pass_list) < length_of_pass:\n",
        "\n",
        "    numbers = random.randint(0,1000000000)\n",
        "    numbers_modded = numbers % (127-33)\n",
        "    numbers_shifted = numbers_modded + 33\n",
        "    pass_list.append(chr(numbers_shifted))\n",
        "    pass_list = list(dict.fromkeys(pass_list))\n",
        "\n",
        "pass_str = ''.join(map(str, pass_list))\n",
        "print(\"Your Password İs = \", pass_str)"
      ],
      "execution_count": null,
      "outputs": [
        {
          "output_type": "stream",
          "text": [
            "Enter lenght of the password!  8\n",
            "['?', '-', '&', 'w', 'g', '^', '>', ']'] 8\n",
            "Your Password İs =  ?-&wg^>]\n"
          ],
          "name": "stdout"
        }
      ]
    }
  ]
}